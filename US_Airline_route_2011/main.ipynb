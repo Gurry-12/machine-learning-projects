{
 "cells": [
  {
   "cell_type": "code",
   "execution_count": 2,
   "metadata": {},
   "outputs": [],
   "source": [
    "import pandas as pd\n",
    "import folium\n",
    "\n",
    "# Load dataset\n",
    "df = pd.read_csv(\"2011_february_aa_flight_paths.csv\")\n",
    "\n",
    "# Initialize map centered on a location\n",
    "mymap = folium.Map(location=[df['start_lat'].mean(), df['start_lon'].mean()], zoom_start=4)\n",
    "\n",
    "# Add markers for airports\n",
    "for index, row in df.iterrows():\n",
    "    folium.Marker([row['start_lat'], row['start_lon']], popup=row['airport1']).add_to(mymap)\n",
    "    folium.Marker([row['end_lat'], row['end_lon']], popup=row['airport2']).add_to(mymap)\n",
    "    folium.PolyLine([(row['start_lat'], row['start_lon']), (row['end_lat'], row['end_lon'])], color=\"red\").add_to(mymap)\n",
    "\n",
    "# Save the map\n",
    "mymap.save(\"flight_paths_map.html\")\n"
   ]
  }
 ],
 "metadata": {
  "kernelspec": {
   "display_name": "Python 3",
   "language": "python",
   "name": "python3"
  },
  "language_info": {
   "codemirror_mode": {
    "name": "ipython",
    "version": 3
   },
   "file_extension": ".py",
   "mimetype": "text/x-python",
   "name": "python",
   "nbconvert_exporter": "python",
   "pygments_lexer": "ipython3",
   "version": "3.12.0"
  }
 },
 "nbformat": 4,
 "nbformat_minor": 2
}
